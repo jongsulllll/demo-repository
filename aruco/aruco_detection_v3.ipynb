{
 "cells": [
  {
   "cell_type": "code",
   "execution_count": null,
   "id": "47008de5-c205-4c00-a5b5-e3ad917cf32c",
   "metadata": {},
   "outputs": [],
   "source": [
    "# v2: 해상도 높이기"
   ]
  },
  {
   "cell_type": "code",
   "execution_count": null,
   "id": "78b6da6a-3333-4d48-a84a-f3bbbe8d33cf",
   "metadata": {},
   "outputs": [],
   "source": [
    "# v3: 마커 여러 개 인식하고 id와 면적 (픽셀) 출력하기"
   ]
  },
  {
   "cell_type": "code",
   "execution_count": 1,
   "id": "d4660608-34d4-442d-b1ef-2f9b045d2b2b",
   "metadata": {},
   "outputs": [],
   "source": [
    "import cv2\n",
    "import cv2.aruco as aruco\n",
    "\n",
    "# 카메라 열기\n",
    "cap = cv2.VideoCapture(1)  # 0: 기본 카메라, 필요 시 1로 변경\n",
    "cap.set(cv2.CAP_PROP_FRAME_WIDTH, 1280)  # 해상도 설정\n",
    "cap.set(cv2.CAP_PROP_FRAME_HEIGHT, 720)\n",
    "\n",
    "# ArUco 마커 딕셔너리 설정 (4x4 마커, 50개)\n",
    "aruco_dict = aruco.getPredefinedDictionary(aruco.DICT_4X4_50)\n",
    "aruco_params = aruco.DetectorParameters()\n",
    "\n",
    "# OpenCV 4.7 이상 버전 감지기 설정\n",
    "detector = aruco.ArucoDetector(aruco_dict, aruco_params)\n",
    "\n",
    "def find_aruco_markers(img, draw=True):\n",
    "    \"\"\" ArUco 마커를 감지하고 ID 및 면적을 반환하는 함수 \"\"\"\n",
    "    gray = cv2.cvtColor(img, cv2.COLOR_BGR2GRAY)  # 흑백 변환\n",
    "    corners, ids, _ = detector.detectMarkers(gray)  # 마커 감지\n",
    "    \n",
    "    marker_info = []  # 마커 정보 저장 (ID, 면적)\n",
    "\n",
    "    if ids is not None:\n",
    "        for i, corner in enumerate(corners):\n",
    "            marker_id = ids[i][0]  # 마커 ID\n",
    "            \n",
    "            # 사각형의 네 개 좌표 가져오기\n",
    "            x1, y1 = corner[0][0]\n",
    "            x2, y2 = corner[0][1]\n",
    "            x3, y3 = corner[0][2]\n",
    "            x4, y4 = corner[0][3]\n",
    "\n",
    "            # 다각형 면적 계산 (픽셀 단위)\n",
    "            area = 0.5 * abs((x1*y2 + x2*y3 + x3*y4 + x4*y1) - (y1*x2 + y2*x3 + y3*x4 + y4*x1))\n",
    "            \n",
    "            marker_info.append((marker_id, area))  # ID와 면적 저장\n",
    "            \n",
    "            if draw:\n",
    "                aruco.drawDetectedMarkers(img, [corner])  # 마커 표시\n",
    "                cv2.putText(img, f\"ID: {marker_id}, Area: {int(area)}\", \n",
    "                            (int(x1), int(y1) - 10), cv2.FONT_HERSHEY_SIMPLEX, 0.6, (0, 255, 0), 2)\n",
    "    \n",
    "    return marker_info\n",
    "\n",
    "while True:\n",
    "    ret, frame = cap.read()\n",
    "    if not ret:\n",
    "        print(\"카메라 프레임을 읽을 수 없습니다.\")\n",
    "        break\n",
    "\n",
    "    markers = find_aruco_markers(frame)\n",
    "\n",
    "    for marker in markers:\n",
    "        print(f\"마커 ID: {marker[0]}, 면적: {int(marker[1])} 픽셀^2\")\n",
    "\n",
    "    # 화면 출력\n",
    "    cv2.imshow(\"ArUco Detection\", frame)\n",
    "\n",
    "    # 'q' 또는 ESC 키로 종료\n",
    "    key = cv2.waitKey(1) & 0xFF\n",
    "    if key == ord('q') or key == 27:\n",
    "        break\n",
    "\n",
    "cap.release()\n",
    "cv2.destroyAllWindows()\n"
   ]
  },
  {
   "cell_type": "code",
   "execution_count": null,
   "id": "25877c8e-5936-44dc-b1bf-5d15547592ac",
   "metadata": {},
   "outputs": [],
   "source": []
  }
 ],
 "metadata": {
  "kernelspec": {
   "display_name": "Python 3 (ipykernel)",
   "language": "python",
   "name": "python3"
  },
  "language_info": {
   "codemirror_mode": {
    "name": "ipython",
    "version": 3
   },
   "file_extension": ".py",
   "mimetype": "text/x-python",
   "name": "python",
   "nbconvert_exporter": "python",
   "pygments_lexer": "ipython3",
   "version": "3.9.13"
  }
 },
 "nbformat": 4,
 "nbformat_minor": 5
}
