{
 "cells": [
  {
   "cell_type": "code",
   "execution_count": 2,
   "metadata": {},
   "outputs": [],
   "source": [
    "# 0314 v2 - 가까운 두 개 마커로 위치 파악\n",
    "# 마커 개수 늘림 시야에 3개까지 잘 잡히는데 가까운 2개를 고르려다 보니까 어떤 마커 2개를 고르는지에 따라서 좌표가 다르게 나타남"
   ]
  },
  {
   "cell_type": "code",
   "execution_count": 1,
   "metadata": {},
   "outputs": [
    {
     "name": "stdout",
     "output_type": "stream",
     "text": [
      "카메라를 열 수 없습니다.\n",
      "프레임 읽기 실패!\n"
     ]
    }
   ],
   "source": [
    "import cv2\n",
    "import cv2.aruco as aruco\n",
    "import numpy as np\n",
    "\n",
    "# 1) 카메라 내부 파라미터 로드\n",
    "cameraMatrix = np.load('C:/cal_cam/calibration_matrix.npy')\n",
    "distCoeffs = np.load('C:/cal_cam/distortion_coefficients.npy')\n",
    "\n",
    "# 2) 마커 실제 한 변 길이 (단위 m)\n",
    "marker_length = 0.16\n",
    "\n",
    "# 3) ArUco 사전, 파라미터 생성\n",
    "aruco_dict = aruco.getPredefinedDictionary(aruco.DICT_4X4_50)\n",
    "detector_params = aruco.DetectorParameters()\n",
    "\n",
    "# 4) 월드 좌표에서 마커의 위치(0~17번)\n",
    "marker_world_pos = {\n",
    "    0: np.array([0.0, 0.0, 0.0]), 1: np.array([1.5, 0.0, 0.0]),\n",
    "    2: np.array([3.0, 0.0, 0.0]), 3: np.array([4.5, 0.0, 0.0]),\n",
    "    4: np.array([0.0, 1.5, 0.0]), 5: np.array([1.5, 1.5, 0.0]),\n",
    "    6: np.array([3.0, 1.5, 0.0]), 7: np.array([4.5, 1.5, 0.0]),\n",
    "    8: np.array([0.0, 3.0, 0.0]), 9: np.array([1.5, 3.0, 0.0]),\n",
    "    10: np.array([3.0, 3.0, 0.0]), 11: np.array([4.5, 3.0, 0.0]),\n",
    "    12: np.array([0.7, 0.7, 0.0]), 13: np.array([2.3, 0.7, 0.0]),\n",
    "    14: np.array([3.7, 0.7, 0.0]), 15: np.array([0.7, 2.3, 0.0]),\n",
    "    16: np.array([2.3, 2.3, 0.0]), 17: np.array([3.7, 2.3, 0.0]),\n",
    "}\n",
    "\n",
    "def compute_camera_pos(marker_id, rvec, tvec, marker_world):\n",
    "    R, _ = cv2.Rodrigues(rvec)\n",
    "    t = tvec.reshape(3, 1)\n",
    "    cam_in_marker = -R.T @ t\n",
    "    return marker_world.reshape(3, 1) + cam_in_marker\n",
    "\n",
    "# 5) 카메라 열기\n",
    "cap = cv2.VideoCapture(0)\n",
    "cap.set(cv2.CAP_PROP_EXPOSURE, -6)\n",
    "\n",
    "if not cap.isOpened():\n",
    "    print(\"카메라를 열 수 없습니다.\")\n",
    "    exit()\n",
    "\n",
    "while True:\n",
    "    ret, frame = cap.read()\n",
    "    if not ret:\n",
    "        print(\"프레임 읽기 실패!\")\n",
    "        break\n",
    "\n",
    "    gray = cv2.cvtColor(frame, cv2.COLOR_BGR2GRAY)\n",
    "    corners, ids, _ = aruco.detectMarkers(gray, aruco_dict, parameters=detector_params)\n",
    "\n",
    "    if ids is not None:\n",
    "        aruco.drawDetectedMarkers(frame, corners, ids)\n",
    "        rvecs, tvecs, _ = aruco.estimatePoseSingleMarkers(corners, marker_length, cameraMatrix, distCoeffs)\n",
    "\n",
    "        for i, id_ in enumerate(ids):\n",
    "            c = corners[i][0][0]\n",
    "            cv2.putText(frame, f\"ID {id_[0]}\", (int(c[0]), int(c[1] - 10)),\n",
    "                        cv2.FONT_HERSHEY_SIMPLEX, 0.6, (0, 255, 0), 2)\n",
    "\n",
    "        found_ids = ids.flatten()\n",
    "        cam_positions = []\n",
    "        id_to_pose = {id_[0]: (rvecs[i], tvecs[i]) for i, id_ in enumerate(ids)}\n",
    "        valid_markers = [(id_, id_to_pose[id_][1]) for id_ in found_ids if id_ in marker_world_pos]\n",
    "\n",
    "        if len(valid_markers) >= 3:\n",
    "            valid_markers.sort(key=lambda x: np.linalg.norm(x[1]))\n",
    "            selected_ids = [m[0] for m in valid_markers[:3]]\n",
    "            print(f\"[INFO] Selected markers for estimation: {selected_ids}\")\n",
    "\n",
    "            for m_id in selected_ids:\n",
    "                rvec, tvec = id_to_pose[m_id]\n",
    "                world_pos = marker_world_pos[m_id]\n",
    "                cam_pos = compute_camera_pos(m_id, rvec, tvec, world_pos)\n",
    "                cam_positions.append(cam_pos)\n",
    "\n",
    "            camera_world_pos = np.mean(cam_positions, axis=0)\n",
    "            cx, cy, cz = camera_world_pos.ravel()\n",
    "            print(f\"[INFO] Camera world position (average): ({cx:.2f}, {cy:.2f}, {cz:.2f})\")\n",
    "\n",
    "    cv2.imshow(\"Aruco 3-Marker Pose Estimation\", frame)\n",
    "    if cv2.waitKey(1) & 0xFF == 27:\n",
    "        break\n",
    "\n",
    "cap.release()\n",
    "cv2.destroyAllWindows()"
   ]
  },
  {
   "cell_type": "code",
   "execution_count": null,
   "metadata": {},
   "outputs": [],
   "source": []
  },
  {
   "cell_type": "code",
   "execution_count": null,
   "metadata": {},
   "outputs": [],
   "source": []
  }
 ],
 "metadata": {
  "kernelspec": {
   "display_name": "Python 3 (ipykernel)",
   "language": "python",
   "name": "python3"
  },
  "language_info": {
   "codemirror_mode": {
    "name": "ipython",
    "version": 3
   },
   "file_extension": ".py",
   "mimetype": "text/x-python",
   "name": "python",
   "nbconvert_exporter": "python",
   "pygments_lexer": "ipython3",
   "version": "3.9.13"
  }
 },
 "nbformat": 4,
 "nbformat_minor": 4
}
