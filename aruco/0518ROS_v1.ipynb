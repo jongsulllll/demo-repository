{
 "cells": [
  {
   "cell_type": "code",
   "execution_count": null,
   "id": "80657552-1e92-4210-bd3d-c660af53ba5f",
   "metadata": {},
   "outputs": [],
   "source": [
    "# 0518 v1\n",
    "# 새로운 방식 시도 - 좌표를 따라서 움직이는 게 아니라 마커 위치를 따라 이동\n",
    "# a번 마커 위치에 도달 판단? 카메라 시야에 a번 마커가 중심에 오는지\n",
    "\n",
    "#1. 아루코 설정 및 카메라 열기\n",
    "#2. 순서대로 마커 추적\n",
    "#3. 목표 마커가 카메라 중심 근처에 오면 다음 마커로 진행\n"
   ]
  },
  {
   "cell_type": "code",
   "execution_count": null,
   "id": "a5253d1d-fa36-4ec2-b997-e8ef7e563c7a",
   "metadata": {},
   "outputs": [],
   "source": [
    "#!/usr/bin/env python3\n",
    "import rospy\n",
    "from std_msgs.msg import Int32MultiArray\n",
    "from geometry_msgs.msg import Twist\n",
    "\n",
    "class MarkerFollower:\n",
    "    def __init__(self):\n",
    "        rospy.init_node(\"marker_follower_node\")\n",
    "\n",
    "        self.target_ids = [12, 13, 14, 17, 16, 15]\n",
    "        self.current_index = 0\n",
    "        self.center_tolerance = 30\n",
    "\n",
    "        self.cmd_pub = rospy.Publisher(\"/cmd_vel\", Twist, queue_size=10)\n",
    "        self.center_sub = rospy.Subscriber(\"/marker_center\", Int32MultiArray, self.center_callback)\n",
    "\n",
    "        rospy.loginfo(\"🤖 마커 기반 로봇 제어 노드 시작\")\n",
    "\n",
    "    def center_callback(self, msg):\n",
    "        if self.current_index >= len(self.target_ids):\n",
    "            rospy.loginfo(\"✅ 모든 마커 따라가기 완료\")\n",
    "            self.stop()\n",
    "            return\n",
    "\n",
    "        cx, cy, marker_id = msg.data\n",
    "        target_id = self.target_ids[self.current_index]\n",
    "\n",
    "        if marker_id != target_id:\n",
    "            return\n",
    "\n",
    "        # 화면 중심 기준\n",
    "        screen_center_x = 640  # 1280x720 카메라 기준\n",
    "        screen_center_y = 360\n",
    "\n",
    "        error_x = cx - screen_center_x\n",
    "        error_y = cy - screen_center_y\n",
    "\n",
    "        twist = Twist()\n",
    "\n",
    "        # 중심 도달 여부\n",
    "        if abs(error_x) < self.center_tolerance and abs(error_y) < self.center_tolerance:\n",
    "            rospy.loginfo(f\"✅ 마커 {target_id} 도달. 다음으로 이동.\")\n",
    "            self.stop()\n",
    "            rospy.sleep(1.0)\n",
    "            self.current_index += 1\n",
    "        else:\n",
    "            twist.angular.z = -0.002 * error_x\n",
    "            twist.linear.x = 0.05\n",
    "            self.cmd_pub.publish(twist)\n",
    "\n",
    "    def stop(self):\n",
    "        self.cmd_pub.publish(Twist())\n",
    "\n",
    "if __name__ == \"__main__\":\n",
    "    try:\n",
    "        MarkerFollower()\n",
    "        rospy.spin()\n",
    "    except rospy.ROSInterruptException:\n",
    "        pass\n"
   ]
  }
 ],
 "metadata": {
  "kernelspec": {
   "display_name": "Python 3 (ipykernel)",
   "language": "python",
   "name": "python3"
  },
  "language_info": {
   "codemirror_mode": {
    "name": "ipython",
    "version": 3
   },
   "file_extension": ".py",
   "mimetype": "text/x-python",
   "name": "python",
   "nbconvert_exporter": "python",
   "pygments_lexer": "ipython3",
   "version": "3.9.13"
  }
 },
 "nbformat": 4,
 "nbformat_minor": 5
}
