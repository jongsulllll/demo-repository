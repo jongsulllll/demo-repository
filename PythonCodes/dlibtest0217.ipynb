{
 "cells": [
  {
   "cell_type": "code",
   "execution_count": 5,
   "id": "9faa462d-a1fa-49e8-9753-389f740bbc69",
   "metadata": {},
   "outputs": [
    {
     "name": "stdout",
     "output_type": "stream",
     "text": [
      "압축 해제 완료!\n"
     ]
    }
   ],
   "source": [
    "import bz2\n",
    "\n",
    "# 원본 압축 파일과 해제할 파일 이름 설정\n",
    "bz2_file = \"C:/face/shape_predictor_68_face_landmarks.dat.bz2\"\n",
    "output_file = \"C:/face/shape_predictor_68_face_landmarks.dat\"\n",
    "\n",
    "# 압축 해제\n",
    "with bz2.BZ2File(bz2_file, \"rb\") as fr, open(output_file, \"wb\") as fw:\n",
    "    fw.write(fr.read())\n",
    "\n",
    "print(\"압축 해제 완료!\")\n"
   ]
  },
  {
   "cell_type": "code",
   "execution_count": 6,
   "id": "048f7026-79cf-4ee8-9950-d896099b4a12",
   "metadata": {},
   "outputs": [
    {
     "name": "stdout",
     "output_type": "stream",
     "text": [
      "압축 해제 완료!\n"
     ]
    }
   ],
   "source": [
    "import bz2\n",
    "\n",
    "# 원본 압축 파일과 해제할 파일 이름 설정\n",
    "bz2_file = \"C:/face/dlib_face_recognition_resnet_model_v1.dat.bz2\"\n",
    "output_file = \"C:/face/dlib_face_recognition_resnet_model_v1.dat\"\n",
    "\n",
    "# 압축 해제\n",
    "with bz2.BZ2File(bz2_file, \"rb\") as fr, open(output_file, \"wb\") as fw:\n",
    "    fw.write(fr.read())\n",
    "\n",
    "print(\"압축 해제 완료!\")\n"
   ]
  },
  {
   "cell_type": "code",
   "execution_count": null,
   "id": "b947061e-3079-4b9c-9722-04ecdf0e52b8",
   "metadata": {},
   "outputs": [],
   "source": [
    "import dlib\n",
    "import cv2\n",
    "import numpy as np\n",
    "import os\n",
    "\n",
    "# 얼굴 감지기 및 얼굴 인코더 모델 로드\n",
    "detector = dlib.get_frontal_face_detector()\n",
    "predictor = dlib.shape_predictor(\"C:/face/shape_predictor_68_face_landmarks.dat\")\n",
    "face_rec_model = dlib.face_recognition_model_v1(\"C:/face/dlib_face_recognition_resnet_model_v1.dat\")\n",
    "\n",
    "# myface 폴더에서 기준 얼굴 이미지 로드\n",
    "face_encodings = []\n",
    "face_names = []\n",
    "myface_dir = \"C:/myface\"\n",
    "\n",
    "for file in os.listdir(myface_dir):\n",
    "    img_path = os.path.join(myface_dir, file)\n",
    "    img = cv2.imread(img_path)\n",
    "    img_rgb = cv2.cvtColor(img, cv2.COLOR_BGR2RGB)\n",
    "    faces = detector(img_rgb)\n",
    "    \n",
    "    if len(faces) > 0:\n",
    "        shape = predictor(img_rgb, faces[0])\n",
    "        face_descriptor = face_rec_model.compute_face_descriptor(img_rgb, shape)\n",
    "        face_encodings.append(np.array(face_descriptor))\n",
    "        face_names.append(file.split('.')[0])  # 파일명을 이름으로 저장\n",
    "    \n",
    "print(f\"Loaded {len(face_encodings)} face encodings from {myface_dir}\")\n",
    "\n",
    "# 실시간 웹캠 얼굴 인식\n",
    "cap = cv2.VideoCapture(0)\n",
    "\n",
    "while cap.isOpened():\n",
    "    ret, frame = cap.read()\n",
    "    if not ret:\n",
    "        break\n",
    "    \n",
    "    img_rgb = cv2.cvtColor(frame, cv2.COLOR_BGR2RGB)\n",
    "    faces = detector(img_rgb)\n",
    "    \n",
    "    for face in faces:\n",
    "        shape = predictor(img_rgb, face)\n",
    "        face_descriptor = face_rec_model.compute_face_descriptor(img_rgb, shape)\n",
    "        face_encoding = np.array(face_descriptor)\n",
    "        \n",
    "        # 유사도 비교\n",
    "        min_dist = float(\"inf\")\n",
    "        identity = \"Unknown\"\n",
    "        \n",
    "        for stored_encoding, name in zip(face_encodings, face_names):\n",
    "            dist = np.linalg.norm(stored_encoding - face_encoding)\n",
    "            if dist < min_dist:\n",
    "                min_dist = dist\n",
    "                identity = name\n",
    "                \n",
    "        # 유사도 출력\n",
    "        similarity = 1 - (min_dist / 1.0)  # 정규화 (거리가 0이면 1, 클수록 0)\n",
    "        \n",
    "        # 얼굴 박스 그리기\n",
    "        x, y, w, h = face.left(), face.top(), face.width(), face.height()\n",
    "        cv2.rectangle(frame, (x, y), (x + w, y + h), (0, 255, 0), 2)\n",
    "        text = f\"{identity}: {similarity:.2f}\"\n",
    "        cv2.putText(frame, text, (x, y - 10), cv2.FONT_HERSHEY_SIMPLEX, 0.5, (0, 255, 0), 2)\n",
    "    \n",
    "    cv2.imshow(\"Face Recognition\", frame)\n",
    "    \n",
    "    if cv2.waitKey(1) & 0xFF == ord('q'):\n",
    "        break\n",
    "\n",
    "cap.release()\n",
    "cv2.destroyAllWindows()\n"
   ]
  }
 ],
 "metadata": {
  "kernelspec": {
   "display_name": "Python 3 (ipykernel)",
   "language": "python",
   "name": "python3"
  },
  "language_info": {
   "codemirror_mode": {
    "name": "ipython",
    "version": 3
   },
   "file_extension": ".py",
   "mimetype": "text/x-python",
   "name": "python",
   "nbconvert_exporter": "python",
   "pygments_lexer": "ipython3",
   "version": "3.9.13"
  }
 },
 "nbformat": 4,
 "nbformat_minor": 5
}
